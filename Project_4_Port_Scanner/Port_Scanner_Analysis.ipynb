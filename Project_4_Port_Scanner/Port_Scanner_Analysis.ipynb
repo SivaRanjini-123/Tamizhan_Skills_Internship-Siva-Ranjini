{
 "cells": [
  {
   "cell_type": "markdown",
   "id": "9f3776c7-98d9-4693-a3b4-53291f31bf9b",
   "metadata": {},
   "source": [
    "# Project 4: Port Scanner Using Python\n",
    "\n",
    "# Problem Statement:\n",
    "In network security, open or vulnerable ports on servers and devices represent significant entry points for malicious actors. \n",
    "Understanding which ports are open and what services they are running is a fundamental step in assessing a \n",
    "system's security posture and identifying potential weaknesses.\n",
    "\n",
    "# Objective:\n",
    "To develop a command-line based port scanner in Python capable of identifying open ports on a given IP address or hostname. \n",
    "This tool will serve as a basic utility for network reconnaissance and initial vulnerability assessment.\n",
    "\n",
    "# Technologies Utilized:\n",
    "* **Python:** The core programming language.\n",
    "* **`socket` module:** Python's low-level networking interface, used to establish connections to target ports.\n",
    "* **`threading` module:** Employed to implement concurrency, allowing the scanner to check multiple ports simultaneously, \n",
    "     thereby significantly improving performance.\n",
    "* **`sys` and `optparse` (or `argparse`) modules:** For handling command-line arguments to make the script user-friendly and configurable.\n",
    "\n",
    "# Expected Outcome:\n",
    "A robust and efficient Python script that, when executed from the command line, takes a target IP/hostname and a range of ports as input, \n",
    "and then outputs a clear list of all detected open ports. \n",
    "This will aid in understanding accessible network services."
   ]
  },
  {
   "cell_type": "markdown",
   "id": "113c4fef-e58c-4a01-bd95-085c8de0f07d",
   "metadata": {},
   "source": [
    "# Library Imports and Initial Setup\n",
    "\n",
    "This section imports the necessary Python modules for our port scanner.\n",
    "* `socket`: Crucial for establishing network connections to check port status.\n",
    "* `threading`: Allows us to run multiple port checks concurrently, speeding up the scanning process.\n",
    "* `sys`: Used for interacting with the system, particularly for exiting the script in case of errors.\n",
    "* `optparse`: This module helps in parsing command-line arguments (like the target IP and port range) provided by the user."
   ]
  },
  {
   "cell_type": "code",
   "execution_count": 1,
   "id": "ae61f383-cb22-414a-b595-3f89cd370bdf",
   "metadata": {},
   "outputs": [
    {
     "name": "stdout",
     "output_type": "stream",
     "text": [
      "Required libraries imported and initial setup complete.\n"
     ]
    }
   ],
   "source": [
    "import socket\n",
    "import threading\n",
    "import sys\n",
    "from optparse import OptionParser\n",
    "\n",
    "# A lock object to manage access to shared resources (like printing to console)\n",
    "# when multiple threads are running. This prevents messy output.\n",
    "screenLock = threading.Semaphore(value=1)\n",
    "\n",
    "# List to store open ports found\n",
    "open_ports = []\n",
    "\n",
    "print(\"Required libraries imported and initial setup complete.\")"
   ]
  },
  {
   "cell_type": "markdown",
   "id": "121c1658-9cd8-4846-b5e9-de031c82ae0f",
   "metadata": {},
   "source": [
    "# Port Scanning Function (`connScan`)\n",
    "\n",
    "This is the core function that attempts to connect to a specific port on a given target.\n",
    "* It tries to create a `socket` connection to the `tgtHost` (target host) on `tgtPort` (target port).\n",
    "* If the connection is successful, it means the port is open. It then prints this information and records the port.\n",
    "* If the connection fails (e.g., connection refused, timeout), it means the port is likely closed or filtered.\n",
    "* It includes a timeout to prevent the scanner from hanging indefinitely on non-responsive ports."
   ]
  },
  {
   "cell_type": "code",
   "execution_count": null,
   "id": "025fd554-24ac-4869-ba01-1cab530486bd",
   "metadata": {},
   "outputs": [],
   "source": [
    "def connScan(tgtHost, tgtPort):\n",
    "    \"\"\"\n",
    "    Attempts to connect to a specific port on the target host.\n",
    "    If successful, the port is considered open.\n",
    "    \"\"\"\n",
    "    try:\n",
    "        # Create a socket object\n",
    "        # AF_INET for IPv4, SOCK_STREAM for TCP\n",
    "        s = socket.socket(socket.AF_INET, socket.SOCK_STREAM)\n",
    "\n",
    "        # Set a timeout for the connection attempt (e.g., 1 second)\n",
    "        s.settimeout(1)\n",
    "\n",
    "        # Attempt to connect to the target host and port\n",
    "        result = s.connect_ex((tgtHost, tgtPort)) # connect_ex returns an error indicator\n",
    "\n",
    "        # If result is 0, connection was successful, meaning the port is open\n",
    "        if result == 0:\n",
    "            screenLock.acquire() # Acquire lock before printing to prevent mixed output from threads\n",
    "            print(f\"[+] {tgtPort}/tcp open\")\n",
    "            open_ports.append(tgtPort) # Add open port to our list\n",
    "        \n",
    "        screenLock.release() # Release lock after printing\n",
    "\n",
    "    except Exception as e:\n",
    "        # If any other error occurs during connection, print it\n",
    "        screenLock.acquire()\n",
    "        print(f\"[-] Could not connect to {tgtPort}/tcp: {e}\")\n",
    "        screenLock.release()\n",
    "    finally:\n",
    "        # Ensure the socket is closed whether connection succeeded or failed\n",
    "        s.close()"
   ]
  },
  {
   "cell_type": "markdown",
   "id": "f98913b7-fcea-4463-aecd-161003a76dfa",
   "metadata": {},
   "source": [
    "# Target Host Scanning Function (`portScan`)\n",
    "\n",
    "This function coordinates the scanning process for a single target host across a list of ports.\n",
    "* First, it resolves the `tgtHost` (which could be a domain name like \"google.com\") into an actual IP address. This is important because `socket.connect_ex` needs an IP.\n",
    "* It then creates a new thread for each port in the `tgtPorts` list.\n",
    "* Each thread calls the `connScan` function, allowing multiple ports to be checked concurrently. This makes the scanner much faster than checking ports one by one."
   ]
  },
  {
   "cell_type": "code",
   "execution_count": null,
   "id": "08e30bbf-7f13-4259-aeb2-4757bf673716",
   "metadata": {},
   "outputs": [],
   "source": [
    "def portScan(tgtHost, tgtPorts):\n",
    "    \"\"\"\n",
    "    Scans a list of ports on the target host.\n",
    "    \"\"\"\n",
    "    try:\n",
    "        # Resolve hostname to IP address\n",
    "        tgtIP = socket.gethostbyname(tgtHost)\n",
    "    except socket.gaierror:\n",
    "        print(f\"[-] Cannot resolve '{tgtHost}': Unknown Host\")\n",
    "        return # Exit if host cannot be resolved\n",
    "\n",
    "    try:\n",
    "        # Print info about the target IP\n",
    "        print(f\"\\n[+] Scan Results for: {tgtIP}\")\n",
    "    except:\n",
    "        # Handles cases where gethostbyname might succeed but hostname is weird\n",
    "        print(f\"\\n[+] Scan Results for: {tgtHost}\")\n",
    "\n",
    "    # For each target port, create and start a new thread\n",
    "    for tgtPort in tgtPorts:\n",
    "        t = threading.Thread(target=connScan, args=(tgtHost, int(tgtPort)))\n",
    "        t.start()"
   ]
  },
  {
   "cell_type": "markdown",
   "id": "43a1872e-3238-4279-88ee-6aaa8a580166",
   "metadata": {},
   "source": [
    "# Main Execution Logic and Command-line Interface\n",
    "\n",
    "This section contains the main part of the script that gets executed when the notebook cell is run. It sets up the command-line interface using `OptionParser` to accept input from the user.\n",
    "\n",
    "**How to use this:**\n",
    "* When you run this cell in Jupyter, it simulates a command-line execution.\n",
    "* You will be prompted to enter the target host and ports within the notebook output.\n",
    "* Alternatively, if this code were saved as a `.py` file, you would run it from your terminal like this:\n",
    "    `python your_port_scanner.py -H <target_ip_or_hostname> -p <port1,port2,port3...>`\n",
    "    or\n",
    "    `python your_port_scanner.py -H <target_ip_or_hostname> -p <start_port>-<end_port>`\n",
    "\n",
    "**Example inputs you can try in the prompt (for testing purposes, use safe targets):**\n",
    "* Target Host: `scanme.nmap.org` (This is a legitimate target provided by Nmap for testing scanners)\n",
    "* Target Ports: `21,22,80,443,3389` (Common ports for FTP, SSH, HTTP, HTTPS, RDP)\n",
    "\n",
    "**Important Note for Testing:**\n",
    "* **Do NOT scan random public websites or IPs without explicit permission.** Scanning without permission can be illegal and unethical.\n",
    "* `scanme.nmap.org` is a safe and permitted target for testing.\n",
    "* You can also scan `localhost` (your own machine) to see ports open on your system (e.g., `127.0.0.1` and ports like `8000` if you have a local web server running, or `445` for SMB)."
   ]
  },
  {
   "cell_type": "code",
   "execution_count": 6,
   "id": "6ee81fee-e030-4221-a992-f0e20561b25f",
   "metadata": {},
   "outputs": [
    {
     "name": "stdout",
     "output_type": "stream",
     "text": [
      "Port Scanner initiated. Please provide input in the prompts below.\n"
     ]
    },
    {
     "name": "stdin",
     "output_type": "stream",
     "text": [
      "Enter Target Host (e.g., scanme.nmap.org or 127.0.0.1):  scanme.nmap.org\n",
      "Enter Target Port(s) (e.g., 21,80,443 or 1-100):  21,22,80,443\n"
     ]
    },
    {
     "name": "stdout",
     "output_type": "stream",
     "text": [
      "\n",
      "[+] Scan Results for: 45.33.32.156\n",
      "[+] 21/tcp open\n",
      "[+] 22/tcp open\n",
      "[+] 80/tcp open\n"
     ]
    }
   ],
   "source": [
    "def main():\n",
    "    # Setup OptionParser to handle command-line arguments\n",
    "    parser = OptionParser(\"usage %prog -H <target host> -p <target port(s)>\")\n",
    "    parser.add_option('-H', dest='tgtHost', type='string', help='specify target host')\n",
    "    parser.add_option('-p', dest='tgtPorts', type='string', help='specify target port(s) separated by comma or a range (e.g., \"21,22,80\" or \"1-100\")')\n",
    "\n",
    "    # Simulate parsing arguments or get them interactively in Jupyter\n",
    "    # In a real script, this would be: (options, args) = parser.parse_args()\n",
    "    # For Jupyter, we'll prompt the user if no arguments are passed.\n",
    "\n",
    "    target_host_input = input(\"Enter Target Host (e.g., scanme.nmap.org or 127.0.0.1): \")\n",
    "    target_ports_input = input(\"Enter Target Port(s) (e.g., 21,80,443 or 1-100): \")\n",
    "\n",
    "    if not target_host_input or not target_ports_input:\n",
    "        print(parser.usage)\n",
    "        sys.exit(0) # Exit if essential info is missing\n",
    "\n",
    "    tgtHost = target_host_input\n",
    "    \n",
    "    # Parse the ports input\n",
    "    if '-' in target_ports_input:\n",
    "        try:\n",
    "            start_port, end_port = map(int, target_ports_input.split('-'))\n",
    "            tgtPorts = [str(p) for p in range(start_port, end_port + 1)]\n",
    "        except ValueError:\n",
    "            print(\"[-] Invalid port range. Use 'start-end' format.\")\n",
    "            sys.exit(0)\n",
    "    else:\n",
    "        tgtPorts = str(target_ports_input).split(',')\n",
    "\n",
    "\n",
    "    if (tgtHost == None) or (tgtPorts[0] == None):\n",
    "        print(parser.usage)\n",
    "        exit(0)\n",
    "    \n",
    "    portScan(tgtHost, tgtPorts)\n",
    "\n",
    "# This ensures main() is called when the script is executed\n",
    "if __name__ == '__main__':\n",
    "    print(\"Port Scanner initiated. Please provide input in the prompts below.\")\n",
    "    main()"
   ]
  },
  {
   "cell_type": "markdown",
   "id": "5905a303-9eb4-40b5-8884-999c99513886",
   "metadata": {},
   "source": [
    "# Conceptual Output / Scan Results\n",
    "\n",
    "After running the port scanner and providing a target host and ports, the script will output the status of each port. The output will dynamically appear below the code cell as the scan progresses.\n",
    "\n",
    "**Example Scan Output (for `scanme.nmap.org` scanning ports `21, 22, 80, 443`):**\n",
    "\n",
    "This output clearly indicates which specified ports are open (e.g., 21, 22, 80) on the target host `45.33.32.156` (which is `scanme.nmap.org`). This information is vital for understanding accessible services and potential entry points on a network.\n"
   ]
  },
  {
   "cell_type": "markdown",
   "id": "9b640a9e-f951-46bc-9566-d54aefe0f905",
   "metadata": {},
   "source": [
    "# Conclusion - Project 4: Port Scanner Using Python\n",
    "\n",
    "This project successfully developed a basic yet effective port scanner using Python's `socket` and `threading` modules. The tool is capable of identifying open TCP ports on a specified target IP address or hostname, enhancing the efficiency of the scan through multithreading. By providing a clear command-line interface, the scanner serves as a fundamental utility for network reconnaissance and initial vulnerability assessments. This project reinforces the understanding of network communication, concurrency, and essential cybersecurity principles related to identifying and securing network entry points."
   ]
  }
 ],
 "metadata": {
  "kernelspec": {
   "display_name": "Python 3 (ipykernel)",
   "language": "python",
   "name": "python3"
  },
  "language_info": {
   "codemirror_mode": {
    "name": "ipython",
    "version": 3
   },
   "file_extension": ".py",
   "mimetype": "text/x-python",
   "name": "python",
   "nbconvert_exporter": "python",
   "pygments_lexer": "ipython3",
   "version": "3.12.7"
  }
 },
 "nbformat": 4,
 "nbformat_minor": 5
}
