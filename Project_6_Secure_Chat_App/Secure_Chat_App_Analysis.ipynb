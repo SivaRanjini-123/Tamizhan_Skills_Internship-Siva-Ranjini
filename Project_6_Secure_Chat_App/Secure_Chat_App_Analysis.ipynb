{
 "cells": [
  {
   "cell_type": "markdown",
   "id": "bbb27d39-4cd2-434f-ae91-d345167e5e09",
   "metadata": {},
   "source": [
    "# Project 6: Secure Chat App\n",
    "\n",
    "# Problem Statement:\n",
    "In an era where digital communication is paramount, the privacy and security of messages are often compromised due to the lack of default end-to-end encryption in many mainstream chat applications. This vulnerability exposes sensitive information to potential eavesdropping and interception.\n",
    "\n",
    "# Objective:\n",
    "The primary objective of this project is to develop a rudimentary secure messaging application that facilitates encrypted text communication between two users. This application will serve as a proof-of-concept for secure data exchange over a network, emphasizing the implementation of cryptographic principles for privacy.\n",
    "\n",
    "# Technologies Utilized:\n",
    "* **Python:** The core programming language for the application logic and network communication.\n",
    "* **Socket Programming (`socket` module):** Essential for establishing network connections and handling data transmission between the chat participants (client and server).\n",
    "* **PyCryptodome (`Crypto.PublicKey.RSA`, `Crypto.Cipher.PKCS1_OAEP`):** This robust cryptographic library will be used to implement RSA asymmetric encryption. This allows for secure key exchange and subsequent message encryption/decryption, ensuring end-to-end security.\n",
    "* **Threading (`threading` module):** To handle simultaneous sending and receiving of messages without blocking the application.\n",
    "\n",
    "# Expected Outcome:\n",
    "A basic yet functional command-line based chat tool capable of providing end-to-end encrypted text communication. This tool will demonstrate the core principles of secure messaging and is suitable for educational purposes and internal demonstrations of secure communication protocols."
   ]
  },
  {
   "cell_type": "code",
   "execution_count": 1,
   "id": "86e986c1-df6c-4f59-84b4-3154a47da45d",
   "metadata": {},
   "outputs": [
    {
     "name": "stdout",
     "output_type": "stream",
     "text": [
      "Requirement already satisfied: pycryptodome in c:\\anaconda3\\lib\\site-packages (3.23.0)\n",
      "Required libraries installed and imported.\n"
     ]
    }
   ],
   "source": [
    "!pip install pycryptodome\n",
    "\n",
    "import socket\n",
    "import threading\n",
    "from Crypto.PublicKey import RSA\n",
    "from Crypto.Cipher import PKCS1_OAEP\n",
    "import base64 # For encoding/decoding encrypted bytes to be sent over network\n",
    "\n",
    "print(\"Required libraries installed and imported.\")"
   ]
  },
  {
   "cell_type": "markdown",
   "id": "9352895d-0563-4497-b4ff-053764f7fe84",
   "metadata": {},
   "source": [
    "# Key Generation and Exchange Functions\n",
    "\n",
    "For end-to-end encryption, each participant needs their own pair of RSA public and private keys. Public keys are exchanged, allowing each participant to encrypt messages that only the other participant (who holds the corresponding private key) can decrypt.\n",
    "\n",
    "* **`generate_keys()`:** Creates a new RSA public/private key pair.\n",
    "* **`exchange_keys(sock, my_public_key)`:** Handles the sending of public key and receiving of the other participant's public key over the established socket connection."
   ]
  },
  {
   "cell_type": "code",
   "execution_count": 3,
   "id": "dec051dc-f7fd-479d-b32e-770ce72c3cf7",
   "metadata": {},
   "outputs": [],
   "source": [
    "def generate_keys():\n",
    "    \"\"\"Generates an RSA public and private key pair.\"\"\"\n",
    "    key = RSA.generate(2048) # Generate a 2048-bit RSA key pair\n",
    "    private_key = key.export_key()\n",
    "    public_key = key.publickey().export_key()\n",
    "    print(\"RSA key pair generated.\")\n",
    "    return private_key, public_key\n",
    "\n",
    "def exchange_keys(sock, my_public_key_pem):\n",
    "    \"\"\"\n",
    "    Exchanges public keys with the other participant over the socket.\n",
    "    my_public_key_pem: Your public key in PEM format (bytes).\n",
    "    Returns the other participant's public key as a PyCryptodome RSA key object.\n",
    "    \"\"\"\n",
    "    # Send my public key\n",
    "    sock.sendall(my_public_key_pem)\n",
    "    print(\"My public key sent.\")\n",
    "\n",
    "    # Receive other participant's public key\n",
    "    other_public_key_pem = sock.recv(2048) # Assuming key size is max 2048 bytes\n",
    "    other_public_key = RSA.import_key(other_public_key_pem)\n",
    "    print(\"Other participant's public key received.\")\n",
    "    return other_public_key"
   ]
  },
  {
   "cell_type": "markdown",
   "id": "e7eb7904-2514-4cd2-8bdb-5203a2d261ef",
   "metadata": {},
   "source": [
    "# Encryption and Decryption Functions\n",
    "\n",
    "These functions utilize `PyCryptodome`'s `PKCS1_OAEP` for secure asymmetric encryption and decryption using the exchanged public and private keys.\n",
    "\n",
    "* **`encrypt_message(message, public_key)`:** Encrypts a message using the *recipient's* public key.\n",
    "* **`decrypt_message(encrypted_message, private_key)`:** Decrypts an encrypted message using *your* private key."
   ]
  },
  {
   "cell_type": "code",
   "execution_count": 4,
   "id": "d720ca5d-756b-4032-8ad7-9e814bf7f2f7",
   "metadata": {},
   "outputs": [],
   "source": [
    "def encrypt_message(message, public_key):\n",
    "    \"\"\"\n",
    "    Encrypts a message using the recipient's public key.\n",
    "    Message must be bytes. Encrypted output is Base64 encoded for safe network transmission.\n",
    "    \"\"\"\n",
    "    cipher_rsa = PKCS1_OAEP.new(public_key)\n",
    "    # RSA encryption has size limits. For longer messages, hybrid encryption (AES + RSA) is used.\n",
    "    # For this simple demo, we'll keep messages short or handle chunking if necessary.\n",
    "    \n",
    "    # Encode message to bytes if it's a string\n",
    "    if isinstance(message, str):\n",
    "        message = message.encode('utf-8')\n",
    "\n",
    "    try:\n",
    "        encrypted_message = cipher_rsa.encrypt(message)\n",
    "        return base64.b64encode(encrypted_message) # Base64 encode for network transmission\n",
    "    except ValueError as e:\n",
    "        print(f\"[-] Encryption error: {e}. Message might be too long for direct RSA encryption.\")\n",
    "        print(\"For real-world apps, use hybrid encryption (e.g., AES for data, RSA for AES key).\")\n",
    "        return None\n",
    "\n",
    "\n",
    "def decrypt_message(encrypted_message_b64, private_key):\n",
    "    \"\"\"\n",
    "    Decrypts a Base64 encoded message using the recipient's private key.\n",
    "    \"\"\"\n",
    "    cipher_rsa = PKCS1_OAEP.new(private_key)\n",
    "    try:\n",
    "        encrypted_message = base64.b64decode(encrypted_message_b64) # Base64 decode\n",
    "        decrypted_message = cipher_rsa.decrypt(encrypted_message)\n",
    "        return decrypted_message.decode('utf-8') # Decode bytes back to string\n",
    "    except ValueError as e:\n",
    "        print(f\"[-] Decryption error: {e}. Check if the correct private key is used or message is corrupted.\")\n",
    "        return None"
   ]
  },
  {
   "cell_type": "markdown",
   "id": "7a09d4e7-a13b-489b-bf6e-2b2d667a3ceb",
   "metadata": {},
   "source": [
    "# Chat Application Logic (Server and Client)\n",
    "\n",
    "This project requires two separate Python scripts to run simultaneously: a server and a client.\n",
    "\n",
    "* **`chat_server.py`:** Listens for incoming connections, performs key exchange, and then facilitates encrypted message sending and receiving.\n",
    "* **`chat_client.py`:** Connects to the server, performs key exchange, and then facilitates encrypted message sending and receiving.\n",
    "\n",
    "Each script will use threading to handle receiving messages in the background while the user can type and send messages."
   ]
  },
  {
   "cell_type": "markdown",
   "id": "d13b2735-5a3d-4e61-8ed0-5fe9867df414",
   "metadata": {},
   "source": [
    "# Conceptual Output / Application Screenshots\n",
    "\n",
    "The chat application runs in separate terminals, below are the screenshots of both the server and client terminals during an active chat session to demonstrate its functionality.\n",
    "\n",
    "# Server Terminal Output:\n",
    "\n",
    "![Chat Server Screenshot](chat_server_screenshot.png)\n",
    "\n",
    "# Client Terminal Output:\n",
    "\n",
    "![Chat Client Screenshot](chat_client_screenshot.png)"
   ]
  },
  {
   "cell_type": "markdown",
   "id": "fcc1451d-b13e-4a68-a371-fc49b83fa7a9",
   "metadata": {},
   "source": [
    "# Conclusion - Project 6: Secure Chat App\n",
    "\n",
    "This project successfully developed a basic secure chat application leveraging Python's socket programming for network communication and the `PyCryptodome` library for RSA-based end-to-end encryption. By implementing separate server and client components, and integrating key generation, exchange, and message encryption/decryption, the application effectively demonstrates the fundamental principles of secure communication. This hands-on experience provides valuable insight into the importance of cryptography in safeguarding digital interactions and serves as an educational foundation for understanding more complex secure messaging systems."
   ]
  }
 ],
 "metadata": {
  "kernelspec": {
   "display_name": "Python 3 (ipykernel)",
   "language": "python",
   "name": "python3"
  },
  "language_info": {
   "codemirror_mode": {
    "name": "ipython",
    "version": 3
   },
   "file_extension": ".py",
   "mimetype": "text/x-python",
   "name": "python",
   "nbconvert_exporter": "python",
   "pygments_lexer": "ipython3",
   "version": "3.12.7"
  }
 },
 "nbformat": 4,
 "nbformat_minor": 5
}
